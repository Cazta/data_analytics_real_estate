{
 "cells": [
  {
   "attachments": {},
   "cell_type": "markdown",
   "metadata": {},
   "source": [
    "# EDA - Stakeholder Analyses\n"
   ]
  },
  {
   "cell_type": "code",
   "execution_count": 85,
   "metadata": {},
   "outputs": [],
   "source": [
    "import warnings\n",
    "\n",
    "warnings.filterwarnings(\"ignore\")\n",
    "\n",
    "import pandas as pd\n",
    "import numpy as np\n",
    "import matplotlib.pyplot as plt\n",
    "import seaborn as sns\n",
    "import missingno as msno\n",
    "from datetime import datetime, date, time, timedelta\n",
    "\n",
    "\n",
    "from matplotlib.ticker import PercentFormatter\n",
    "plt.rcParams.update({ \"figure.figsize\" : (8, 5),\"axes.facecolor\" : \"white\", \"axes.edgecolor\":  \"black\"})\n",
    "plt.rcParams[\"figure.facecolor\"]= \"w\"\n",
    "pd.plotting.register_matplotlib_converters()\n",
    "pd.set_option('display.float_format', lambda x: '%.3f' % x)\n",
    "%matplotlib inline"
   ]
  },
  {
   "cell_type": "code",
   "execution_count": 86,
   "metadata": {},
   "outputs": [],
   "source": [
    "# import cleaned data\n",
    "df_kc_clean = pd.read_csv('data/king_county_house_clean_dataset.csv')\n",
    "\n",
    "# disable column truncation\n",
    "pd.set_option('display.max_columns', None) \n",
    "pd.set_option('display.width', None) \n",
    "pd.set_option('display.max_colwidth', -1) "
   ]
  },
  {
   "attachments": {},
   "cell_type": "markdown",
   "metadata": {},
   "source": [
    "## Stakeholder Requirement\n",
    "- budget assumption: lower 15 percent of price/sqm living area\n",
    "- location: social neighborhood, family friendly\n",
    "- five children: 6 bedrooms or >= 4 bedrooms with at least 150 sqm living area \n",
    "- fair condition, >= 3\n",
    "- good construction, >4\n",
    "\n",
    "\n",
    "American Crowding Index: (WHO Housing and health guidelines)\n",
    "\n",
    "Overcrowding occurs if there are more than three people per habitable room (88).\n",
    "American Crowding Index\n",
    "Crowding occurs if there is more than one person per room; severe crowding occurs if there are more than 1.5\n",
    "persons per room (excluding bathrooms, balconies, porches, foyers, hall-ways and half-rooms).\n",
    "\n",
    "Assumption: Requirements can be fulfilled with at least a fair chance if the were at least 100 listing with this criteria in the data set."
   ]
  },
  {
   "cell_type": "code",
   "execution_count": 87,
   "metadata": {},
   "outputs": [
    {
     "data": {
      "text/plain": [
       "1717.0"
      ]
     },
     "execution_count": 87,
     "metadata": {},
     "output_type": "execute_result"
    }
   ],
   "source": [
    "#lowest 15% of the price range\n",
    "np.percentile(df_kc_clean['price_sqm_living'], 15)"
   ]
  },
  {
   "cell_type": "code",
   "execution_count": 88,
   "metadata": {},
   "outputs": [],
   "source": [
    "df_kc_low15 = df_kc_clean.query('price_sqm_living <= 1717')\n"
   ]
  },
  {
   "cell_type": "code",
   "execution_count": 89,
   "metadata": {},
   "outputs": [],
   "source": [
    "# save affordable df as .csv\n",
    "df_kc_low15.to_csv('data/king_county_house_affordable_dataset.csv', index=False)"
   ]
  },
  {
   "cell_type": "code",
   "execution_count": 90,
   "metadata": {},
   "outputs": [
    {
     "data": {
      "text/html": [
       "<div>\n",
       "<style scoped>\n",
       "    .dataframe tbody tr th:only-of-type {\n",
       "        vertical-align: middle;\n",
       "    }\n",
       "\n",
       "    .dataframe tbody tr th {\n",
       "        vertical-align: top;\n",
       "    }\n",
       "\n",
       "    .dataframe thead th {\n",
       "        text-align: right;\n",
       "    }\n",
       "</style>\n",
       "<table border=\"1\" class=\"dataframe\">\n",
       "  <thead>\n",
       "    <tr style=\"text-align: right;\">\n",
       "      <th></th>\n",
       "      <th>id</th>\n",
       "      <th>price</th>\n",
       "      <th>bedrooms</th>\n",
       "      <th>bathrooms</th>\n",
       "      <th>sqm_living</th>\n",
       "      <th>sqm_lot</th>\n",
       "      <th>floors</th>\n",
       "      <th>condition</th>\n",
       "      <th>construction</th>\n",
       "      <th>yr_built</th>\n",
       "      <th>zipcode</th>\n",
       "      <th>month_sold</th>\n",
       "      <th>social_ngh</th>\n",
       "      <th>price_sqm_living</th>\n",
       "      <th>sqm_total</th>\n",
       "      <th>price_sqm_total</th>\n",
       "    </tr>\n",
       "  </thead>\n",
       "  <tbody>\n",
       "    <tr>\n",
       "      <th>count</th>\n",
       "      <td>3248.000</td>\n",
       "      <td>3248.000</td>\n",
       "      <td>3248.000</td>\n",
       "      <td>3248.000</td>\n",
       "      <td>3248.000</td>\n",
       "      <td>3248.000</td>\n",
       "      <td>3248.000</td>\n",
       "      <td>3248.000</td>\n",
       "      <td>3248.000</td>\n",
       "      <td>3248.000</td>\n",
       "      <td>3248.000</td>\n",
       "      <td>3248.000</td>\n",
       "      <td>3248.000</td>\n",
       "      <td>3248.000</td>\n",
       "      <td>3248.000</td>\n",
       "      <td>3248.000</td>\n",
       "    </tr>\n",
       "    <tr>\n",
       "      <th>mean</th>\n",
       "      <td>4572224714.859</td>\n",
       "      <td>299371.183</td>\n",
       "      <td>3.649</td>\n",
       "      <td>2.179</td>\n",
       "      <td>205.212</td>\n",
       "      <td>1256.929</td>\n",
       "      <td>1.470</td>\n",
       "      <td>3.323</td>\n",
       "      <td>2.912</td>\n",
       "      <td>1977.575</td>\n",
       "      <td>98061.711</td>\n",
       "      <td>6.617</td>\n",
       "      <td>0.048</td>\n",
       "      <td>1465.585</td>\n",
       "      <td>519.446</td>\n",
       "      <td>716.169</td>\n",
       "    </tr>\n",
       "    <tr>\n",
       "      <th>std</th>\n",
       "      <td>2852927069.005</td>\n",
       "      <td>102714.048</td>\n",
       "      <td>0.875</td>\n",
       "      <td>0.680</td>\n",
       "      <td>68.476</td>\n",
       "      <td>2928.303</td>\n",
       "      <td>0.490</td>\n",
       "      <td>0.585</td>\n",
       "      <td>0.350</td>\n",
       "      <td>23.494</td>\n",
       "      <td>57.616</td>\n",
       "      <td>3.217</td>\n",
       "      <td>0.215</td>\n",
       "      <td>181.735</td>\n",
       "      <td>749.606</td>\n",
       "      <td>227.700</td>\n",
       "    </tr>\n",
       "    <tr>\n",
       "      <th>min</th>\n",
       "      <td>1000102.000</td>\n",
       "      <td>78000.000</td>\n",
       "      <td>1.000</td>\n",
       "      <td>0.500</td>\n",
       "      <td>53.000</td>\n",
       "      <td>100.000</td>\n",
       "      <td>1.000</td>\n",
       "      <td>1.000</td>\n",
       "      <td>1.000</td>\n",
       "      <td>1900.000</td>\n",
       "      <td>98001.000</td>\n",
       "      <td>1.000</td>\n",
       "      <td>0.000</td>\n",
       "      <td>945.000</td>\n",
       "      <td>134.000</td>\n",
       "      <td>25.000</td>\n",
       "    </tr>\n",
       "    <tr>\n",
       "      <th>25%</th>\n",
       "      <td>2113700271.250</td>\n",
       "      <td>235000.000</td>\n",
       "      <td>3.000</td>\n",
       "      <td>1.750</td>\n",
       "      <td>160.000</td>\n",
       "      <td>594.750</td>\n",
       "      <td>1.000</td>\n",
       "      <td>3.000</td>\n",
       "      <td>3.000</td>\n",
       "      <td>1962.000</td>\n",
       "      <td>98023.000</td>\n",
       "      <td>4.000</td>\n",
       "      <td>0.000</td>\n",
       "      <td>1349.000</td>\n",
       "      <td>335.000</td>\n",
       "      <td>581.000</td>\n",
       "    </tr>\n",
       "    <tr>\n",
       "      <th>50%</th>\n",
       "      <td>3922150171.500</td>\n",
       "      <td>286975.000</td>\n",
       "      <td>4.000</td>\n",
       "      <td>2.250</td>\n",
       "      <td>196.000</td>\n",
       "      <td>749.000</td>\n",
       "      <td>1.000</td>\n",
       "      <td>3.000</td>\n",
       "      <td>3.000</td>\n",
       "      <td>1979.000</td>\n",
       "      <td>98038.000</td>\n",
       "      <td>7.000</td>\n",
       "      <td>0.000</td>\n",
       "      <td>1502.000</td>\n",
       "      <td>387.000</td>\n",
       "      <td>725.000</td>\n",
       "    </tr>\n",
       "    <tr>\n",
       "      <th>75%</th>\n",
       "      <td>7299600755.000</td>\n",
       "      <td>350000.000</td>\n",
       "      <td>4.000</td>\n",
       "      <td>2.500</td>\n",
       "      <td>239.000</td>\n",
       "      <td>971.000</td>\n",
       "      <td>2.000</td>\n",
       "      <td>4.000</td>\n",
       "      <td>3.000</td>\n",
       "      <td>1997.000</td>\n",
       "      <td>98092.000</td>\n",
       "      <td>9.000</td>\n",
       "      <td>0.000</td>\n",
       "      <td>1615.000</td>\n",
       "      <td>473.000</td>\n",
       "      <td>865.000</td>\n",
       "    </tr>\n",
       "    <tr>\n",
       "      <th>max</th>\n",
       "      <td>9835801000.000</td>\n",
       "      <td>1140000.000</td>\n",
       "      <td>9.000</td>\n",
       "      <td>7.500</td>\n",
       "      <td>694.000</td>\n",
       "      <td>78345.000</td>\n",
       "      <td>3.000</td>\n",
       "      <td>5.000</td>\n",
       "      <td>5.000</td>\n",
       "      <td>2015.000</td>\n",
       "      <td>98198.000</td>\n",
       "      <td>12.000</td>\n",
       "      <td>1.000</td>\n",
       "      <td>1717.000</td>\n",
       "      <td>19925.000</td>\n",
       "      <td>1408.000</td>\n",
       "    </tr>\n",
       "  </tbody>\n",
       "</table>\n",
       "</div>"
      ],
      "text/plain": [
       "                  id       price  bedrooms  bathrooms  sqm_living   sqm_lot  \\\n",
       "count 3248.000       3248.000    3248.000  3248.000   3248.000    3248.000    \n",
       "mean  4572224714.859 299371.183  3.649     2.179      205.212     1256.929    \n",
       "std   2852927069.005 102714.048  0.875     0.680      68.476      2928.303    \n",
       "min   1000102.000    78000.000   1.000     0.500      53.000      100.000     \n",
       "25%   2113700271.250 235000.000  3.000     1.750      160.000     594.750     \n",
       "50%   3922150171.500 286975.000  4.000     2.250      196.000     749.000     \n",
       "75%   7299600755.000 350000.000  4.000     2.500      239.000     971.000     \n",
       "max   9835801000.000 1140000.000 9.000     7.500      694.000     78345.000   \n",
       "\n",
       "        floors  condition  construction  yr_built   zipcode  month_sold  \\\n",
       "count 3248.000 3248.000   3248.000      3248.000  3248.000  3248.000      \n",
       "mean  1.470    3.323      2.912         1977.575  98061.711 6.617         \n",
       "std   0.490    0.585      0.350         23.494    57.616    3.217         \n",
       "min   1.000    1.000      1.000         1900.000  98001.000 1.000         \n",
       "25%   1.000    3.000      3.000         1962.000  98023.000 4.000         \n",
       "50%   1.000    3.000      3.000         1979.000  98038.000 7.000         \n",
       "75%   2.000    4.000      3.000         1997.000  98092.000 9.000         \n",
       "max   3.000    5.000      5.000         2015.000  98198.000 12.000        \n",
       "\n",
       "       social_ngh  price_sqm_living  sqm_total  price_sqm_total  \n",
       "count 3248.000    3248.000          3248.000   3248.000          \n",
       "mean  0.048       1465.585          519.446    716.169           \n",
       "std   0.215       181.735           749.606    227.700           \n",
       "min   0.000       945.000           134.000    25.000            \n",
       "25%   0.000       1349.000          335.000    581.000           \n",
       "50%   0.000       1502.000          387.000    725.000           \n",
       "75%   0.000       1615.000          473.000    865.000           \n",
       "max   1.000       1717.000          19925.000  1408.000          "
      ]
     },
     "execution_count": 90,
     "metadata": {},
     "output_type": "execute_result"
    }
   ],
   "source": [
    "df_kc_low15.describe()"
   ]
  },
  {
   "cell_type": "code",
   "execution_count": 103,
   "metadata": {},
   "outputs": [
    {
     "data": {
      "text/plain": [
       "(0, 17)"
      ]
     },
     "execution_count": 103,
     "metadata": {},
     "output_type": "execute_result"
    }
   ],
   "source": [
    "#starting with the perfect houses, there are no results\n",
    "df_kc_low15.query('social_ngh == 1 and bedrooms >= 6 and construction >= 4 and condition >= 4').sort_values('price').shape"
   ]
  },
  {
   "cell_type": "code",
   "execution_count": 104,
   "metadata": {},
   "outputs": [
    {
     "data": {
      "text/plain": [
       "(0, 17)"
      ]
     },
     "execution_count": 104,
     "metadata": {},
     "output_type": "execute_result"
    }
   ],
   "source": [
    "#alternative square meter instead of bedrooms do not improve things much\n",
    "df_kc_low15.query('social_ngh == 1 and sqm_living >= 120 and bedrooms >= 4 and construction >= 4 and condition >= 4').sort_values('price').shape"
   ]
  },
  {
   "attachments": {},
   "cell_type": "markdown",
   "metadata": {},
   "source": [
    "I want to look at the distribution of the criteria variables to see what I need to relax on to get more listings:"
   ]
  },
  {
   "attachments": {},
   "cell_type": "markdown",
   "metadata": {},
   "source": [
    "reducing the bedrooms to at least 3 was a good idea, but not sufficient. Since this is the minimum required bedrooms, we need to look for other factors"
   ]
  },
  {
   "attachments": {},
   "cell_type": "markdown",
   "metadata": {},
   "source": [
    "there are only limited listing with construction rates above 3, so having this criteria reduce the findings a lot. construction should be set to at least fair (>= 3)"
   ]
  },
  {
   "cell_type": "code",
   "execution_count": 110,
   "metadata": {},
   "outputs": [
    {
     "data": {
      "image/png": "[encoded data removed]",
      "text/plain": [
       "<Figure size 1000x500 with 1 Axes>"
      ]
     },
     "metadata": {},
     "output_type": "display_data"
    }
   ],
   "source": [
    "fig, ax = plt.subplots(figsize=(10,5))\n",
    "sns.histplot(ax = ax, data = df_kc_low15, x='bedrooms', edgecolor='#a6dba0', linewidth=2, binwidth=1, color='#7b3294', discrete=True)\n",
    "#df_kc_low15.hist(ax=ax, column='bedrooms', edgecolor='#a6dba0', linewidth=2, color='#7b3294', discrete=True)\n",
    "\n",
    "sns.set_style(\"darkgrid\")\n",
    "sns.despine()\n",
    "\n",
    "ax.set_title('Number of Bedrooms in Listed Housing', color='#7b3294')\n",
    "ax.set_ylabel('')\n",
    "ax.set_xlabel('')\n",
    "plt.xticks([1,2,3,4,5,6,7,8,9])\n",
    "plt.yticks([]);\n",
    "\n",
    "plt.savefig(\"bedrooms_distribution.jpg\")"
   ]
  },
  {
   "cell_type": "code",
   "execution_count": 107,
   "metadata": {},
   "outputs": [
    {
     "data": {
      "image/png": "[encoded data removed]",
      "text/plain": [
       "<Figure size 1000x500 with 1 Axes>"
      ]
     },
     "metadata": {},
     "output_type": "display_data"
    }
   ],
   "source": [
    "fig, ax = plt.subplots(figsize=(10,5))\n",
    "sns.histplot(ax = ax, data = df_kc_low15, x='construction', edgecolor='#a6dba0', linewidth=2, binwidth=1, color='#7b3294', discrete=True)\n",
    "#df_kc_low15.hist(ax=ax, column='bedrooms', edgecolor='#a6dba0', linewidth=2, color='#7b3294', discrete=True)\n",
    "\n",
    "sns.set_style(\"darkgrid\")\n",
    "sns.despine()\n",
    "\n",
    "ax.set_title('Construction Ratings', color='#7b3294')\n",
    "ax.set_ylabel('')\n",
    "ax.set_xlabel('(1) = poor to (5) = very good')\n",
    "plt.xticks([1,2,3,4,5,6,7,8,9])\n",
    "plt.yticks([]);\n",
    "\n",
    "plt.savefig(\"construction_distribution.jpg\")"
   ]
  },
  {
   "cell_type": "code",
   "execution_count": 111,
   "metadata": {},
   "outputs": [
    {
     "data": {
      "image/png": "[encoded data removed]",
      "text/plain": [
       "<Figure size 1000x500 with 1 Axes>"
      ]
     },
     "metadata": {},
     "output_type": "display_data"
    }
   ],
   "source": [
    "fig, ax = plt.subplots(figsize=(10,5))\n",
    "sns.histplot(ax = ax, data = df_kc_low15, x='condition', edgecolor='#a6dba0', linewidth=2, binwidth=1, color='#7b3294', discrete=True)\n",
    "#df_kc_low15.hist(ax=ax, column='bedrooms', edgecolor='#a6dba0', linewidth=2, color='#7b3294', discrete=True)\n",
    "\n",
    "sns.set_style(\"darkgrid\")\n",
    "sns.despine()\n",
    "\n",
    "ax.set_title('Condition Ratings', color='#7b3294')\n",
    "ax.set_ylabel('')\n",
    "ax.set_xlabel('(1) = poor to (5) = very good')\n",
    "plt.xticks([1,2,3,4,5,6,7,8,9])\n",
    "plt.yticks([]);\n",
    "\n",
    "plt.savefig(\"condition_distribution.jpg\")"
   ]
  },
  {
   "attachments": {},
   "cell_type": "markdown",
   "metadata": {},
   "source": [
    "most listing are in fair condition, so reducing this criteria makes a lot of sense"
   ]
  },
  {
   "cell_type": "code",
   "execution_count": 95,
   "metadata": {},
   "outputs": [
    {
     "data": {
      "image/png": "[encoded data removed]",
      "text/plain": [
       "<Figure size 1000x500 with 1 Axes>"
      ]
     },
     "metadata": {},
     "output_type": "display_data"
    }
   ],
   "source": [
    "fig, ax = plt.subplots(figsize=(10,5))\n",
    "sns.histplot(ax = ax, data = df_kc_low15, x='social_ngh', edgecolor='#a6dba0', linewidth=2, binwidth=.8,bins=2, color='#7b3294', discrete=True)\n",
    "\n",
    "sns.set_style(\"darkgrid\")\n",
    "sns.despine()\n",
    "\n",
    "ax.set_title('Housing Listings in King County', color='#7b3294')\n",
    "ax.set_ylabel('')\n",
    "ax.set_xlabel('   Other Areas                                                      Family-Friendly Neighborhoods')\n",
    "plt.xticks([])\n",
    "plt.yticks([]);\n",
    "plt.savefig(\"social_ngh_distribution\")"
   ]
  },
  {
   "attachments": {},
   "cell_type": "markdown",
   "metadata": {},
   "source": [
    "location, location location: as expected, the good neighborhood limits the chances greatly, a last resort would be to move to a less desired neighborhood "
   ]
  },
  {
   "cell_type": "code",
   "execution_count": 96,
   "metadata": {},
   "outputs": [
    {
     "data": {
      "text/plain": [
       "(0, 17)"
      ]
     },
     "execution_count": 96,
     "metadata": {},
     "output_type": "execute_result"
    }
   ],
   "source": [
    "#starting with the perfect houses, there are no results\n",
    "df_kc_low15.query('social_ngh == 1 and bedrooms >= 6 and construction >= 4 and condition >= 3').sort_values('price').shape"
   ]
  },
  {
   "cell_type": "code",
   "execution_count": 112,
   "metadata": {},
   "outputs": [
    {
     "data": {
      "text/plain": [
       "(0, 17)"
      ]
     },
     "execution_count": 112,
     "metadata": {},
     "output_type": "execute_result"
    }
   ],
   "source": [
    "#alternative square meter instead of bedrooms do not improve things much\n",
    "df_kc_low15.query('social_ngh == 1 and sqm_living >= 120 and bedrooms >= 4 and construction >= 4 and condition >= 4').sort_values('price').shape"
   ]
  },
  {
   "attachments": {},
   "cell_type": "markdown",
   "metadata": {},
   "source": [
    "## Reducing Stakeholder Requirements\n",
    "- as seen in the distributions, reducing to 4 bedrooms is a good idea, but was no enough to yield at least a sufficient amount of available housing"
   ]
  },
  {
   "cell_type": "code",
   "execution_count": 113,
   "metadata": {},
   "outputs": [
    {
     "data": {
      "text/plain": [
       "(3, 17)"
      ]
     },
     "execution_count": 113,
     "metadata": {},
     "output_type": "execute_result"
    }
   ],
   "source": [
    "df_kc_low15.query('social_ngh == 1 and sqm_living >= 120 and bedrooms >= 4 and construction >= 4 and condition >= 3').sort_values('price').shape"
   ]
  },
  {
   "cell_type": "code",
   "execution_count": 99,
   "metadata": {},
   "outputs": [
    {
     "data": {
      "text/plain": [
       "(11, 17)"
      ]
     },
     "execution_count": 99,
     "metadata": {},
     "output_type": "execute_result"
    }
   ],
   "source": [
    "df_kc_low15.query('social_ngh == 1 and bedrooms >= 6 and construction >= 3 and condition >= 3').sort_values('price').shape"
   ]
  },
  {
   "cell_type": "code",
   "execution_count": 114,
   "metadata": {},
   "outputs": [
    {
     "data": {
      "text/plain": [
       "(69, 17)"
      ]
     },
     "execution_count": 114,
     "metadata": {},
     "output_type": "execute_result"
    }
   ],
   "source": [
    "# the only way to achieve a sufficient amount of listing in the past:\n",
    "df_kc_low15.query('social_ngh == 1 and sqm_living >= 120 and bedrooms >= 4 and construction >= 3 and condition >= 3').sort_values('price').shape"
   ]
  },
  {
   "cell_type": "code",
   "execution_count": 101,
   "metadata": {},
   "outputs": [
    {
     "data": {
      "text/plain": [
       "(115, 17)"
      ]
     },
     "execution_count": 101,
     "metadata": {},
     "output_type": "execute_result"
    }
   ],
   "source": [
    "df_kc_low15.query('social_ngh == 1 and sqm_living >= 120 and bedrooms >= 3 and construction >= 3 and condition >= 3').sort_values('price').shape"
   ]
  },
  {
   "attachments": {},
   "cell_type": "markdown",
   "metadata": {},
   "source": [
    "## Feasible Requirements\n",
    "- social neighborhood\n",
    "- 120 square meter living and at least four bedrooms\n",
    "- fair condition\n",
    "- fair construction\n",
    "\n",
    "- searching outside of desired neighborhood would increase the changes significantly:\n"
   ]
  },
  {
   "cell_type": "code",
   "execution_count": 102,
   "metadata": {},
   "outputs": [
    {
     "data": {
      "text/plain": [
       "(2610, 17)"
      ]
     },
     "execution_count": 102,
     "metadata": {},
     "output_type": "execute_result"
    }
   ],
   "source": [
    "df_kc_low15.query('social_ngh == 0 and sqm_living >= 120 and bedrooms >= 3 and construction >= 3 and condition >= 3').sort_values('price').shape"
   ]
  }
 ],
 "metadata": {
  "kernelspec": {
   "display_name": ".venv",
   "language": "python",
   "name": "python3"
  },
  "language_info": {
   "codemirror_mode": {
    "name": "ipython",
    "version": 3
   },
   "file_extension": ".py",
   "mimetype": "text/x-python",
   "name": "python",
   "nbconvert_exporter": "python",
   "pygments_lexer": "ipython3",
   "version": "3.9.8"
  },
  "orig_nbformat": 4
 },
 "nbformat": 4,
 "nbformat_minor": 2
}
