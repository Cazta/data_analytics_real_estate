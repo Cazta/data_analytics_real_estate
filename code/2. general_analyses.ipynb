{
 "cells": [
  {
   "attachments": {},
   "cell_type": "markdown",
   "metadata": {},
   "source": [
    "# EDA - General Dataset Analyses"
   ]
  },
  {
   "cell_type": "code",
   "execution_count": null,
   "metadata": {},
   "outputs": [],
   "source": [
    "import warnings\n",
    "\n",
    "warnings.filterwarnings(\"ignore\")\n",
    "\n",
    "import pandas as pd\n",
    "import numpy as np\n",
    "import matplotlib.pyplot as plt\n",
    "import seaborn as sns\n",
    "import missingno as msno\n",
    "from datetime import datetime, date, time, timedelta\n",
    "from scipy import stats as stats\n",
    "\n",
    "\n",
    "from matplotlib.ticker import PercentFormatter\n",
    "plt.rcParams.update({ \"figure.figsize\" : (8, 5),\"axes.facecolor\" : \"white\", \"axes.edgecolor\":  \"black\"})\n",
    "plt.rcParams[\"figure.facecolor\"]= \"w\"\n",
    "pd.plotting.register_matplotlib_converters()\n",
    "pd.set_option('display.float_format', lambda x: '%.3f' % x)\n",
    "%matplotlib inline\n"
   ]
  },
  {
   "cell_type": "code",
   "execution_count": null,
   "metadata": {},
   "outputs": [],
   "source": [
    "# import cleaned data\n",
    "df_kc_clean = pd.read_csv('data/king_county_house_clean_dataset.csv')\n",
    "\n",
    "# disable column truncation\n",
    "pd.set_option('display.max_columns', None) \n",
    "pd.set_option('display.width', None) \n",
    "pd.set_option('display.max_colwidth', -1) "
   ]
  },
  {
   "attachments": {},
   "cell_type": "markdown",
   "metadata": {},
   "source": [
    "## Distribution of Housing Properties"
   ]
  },
  {
   "cell_type": "code",
   "execution_count": null,
   "metadata": {},
   "outputs": [],
   "source": [
    "# plot histogram of sqm living area\n",
    "plt.hist(df_kc_clean.sqm_living);"
   ]
  },
  {
   "cell_type": "code",
   "execution_count": null,
   "metadata": {},
   "outputs": [],
   "source": [
    "# plot histogram of bedrooms\n",
    "plt.hist(df_kc_clean.bedrooms);"
   ]
  },
  {
   "cell_type": "code",
   "execution_count": null,
   "metadata": {},
   "outputs": [],
   "source": [
    "fig, ax = plt.subplots(figsize=(10,5))\n",
    "\n",
    "# histogram\n",
    "condition_plot = df_kc_clean.hist(ax=ax, column='condition', bins=5, edgecolor='#a6dba0', linewidth=2, color='#7b3294')\n",
    "\n",
    "# plot settings\n",
    "ax.set_title('Housing Conditions in King County')\n",
    "ax.set_ylabel('')\n",
    "ax.set_xlabel('(1) = poor to (5) = very good')\n",
    "plt.xticks([])\n",
    "plt.yticks([0, 5000, 10000,15000])\n",
    "\n",
    "# save figure as .jpg to include in presentation\n",
    "plt.savefig(\"figures/condition.jpg\");"
   ]
  },
  {
   "attachments": {},
   "cell_type": "markdown",
   "metadata": {},
   "source": [
    "## Does month of purchase affect the price?"
   ]
  },
  {
   "cell_type": "code",
   "execution_count": null,
   "metadata": {},
   "outputs": [],
   "source": [
    "# does the purchase timing throughout the year affect the price? \n",
    "# are there price differences between the desired neighborhood and others?\n",
    "\n",
    "# plot the relationship between price/sqm and month sold, hue social neighborhood:\n",
    "\n",
    "# Set custom color palette\n",
    "colors = ['#7b3294','#a6dba0']\n",
    "customPalette = sns.set_palette(sns.color_palette(colors))\n",
    "sns.set_style(\"darkgrid\")\n",
    "\n",
    "# Create a scatterplot for categorical variables using catplot:\n",
    "timing_plot = sns.catplot(\n",
    "    data=df_kc_clean,\n",
    "    x='month_sold', y='price_sqm_living', hue='social_ngh',\n",
    "    jitter=True, \n",
    "    palette=customPalette,\n",
    "    legend=False\n",
    "    )\n",
    "\n",
    "# set figure properties\n",
    "timing_plot.fig.set_size_inches(15,5)\n",
    "timing_plot.fig.suptitle('Does Timing Matter?', y=(1.05), size=22, color='#7b3294');\n",
    "timing_plot.add_legend(title='Social Neighborhood')\n",
    "timing_plot.set_axis_labels('Month of Property Selling','Price/sqm Living Area in US$', fontsize=12)\n",
    "\n",
    "# save figure as .jpg to include in presentation\n",
    "timing_plot.savefig(\"figures/timing.jpg\")\n",
    "\n",
    "# display plot\n",
    "plt.show(timing_plot)"
   ]
  },
  {
   "attachments": {},
   "cell_type": "markdown",
   "metadata": {},
   "source": [
    "## Are houses in the desired neighborhood more expensive?"
   ]
  },
  {
   "cell_type": "code",
   "execution_count": null,
   "metadata": {},
   "outputs": [],
   "source": [
    "# split df in two parts to compare mean price/sqm_living per neighborhoods\n",
    "\n",
    "df_social_1 = df_kc_clean.query('social_ngh == 1')\n",
    "df_social_0 = df_kc_clean.query('social_ngh == 0')"
   ]
  },
  {
   "cell_type": "code",
   "execution_count": null,
   "metadata": {},
   "outputs": [],
   "source": [
    "df_social_1.price.describe()"
   ]
  },
  {
   "cell_type": "code",
   "execution_count": null,
   "metadata": {},
   "outputs": [],
   "source": [
    "df_social_0.price.describe()"
   ]
  },
  {
   "cell_type": "code",
   "execution_count": null,
   "metadata": {},
   "outputs": [],
   "source": [
    "# compare mean price/sqm_living per neighborhoods\n",
    "print(f'mean price per sqm_living in desired neighborhoods: {df_social_1.price_sqm_living.mean().round()}')\n",
    "print(f'mean price per sqm_living in other neighborhoods: {df_social_0.price_sqm_living.mean().round()}')"
   ]
  },
  {
   "cell_type": "code",
   "execution_count": null,
   "metadata": {},
   "outputs": [],
   "source": [
    "# plot mean price by neighborhood category\n",
    "sns.pointplot(x = 'social_ngh', y = 'price_sqm_living', data = df_kc_clean);"
   ]
  },
  {
   "attachments": {},
   "cell_type": "markdown",
   "metadata": {},
   "source": [
    "## Does year of construction affect the price?"
   ]
  },
  {
   "cell_type": "code",
   "execution_count": null,
   "metadata": {},
   "outputs": [],
   "source": [
    "# plot price development by year of building construction\n",
    "colors = ['#a6dba0']\n",
    "sns.set_style(\"darkgrid\")\n",
    "sns.despine()\n",
    "customPalette = sns.set_palette(sns.color_palette(colors))\n",
    "\n",
    "price_yr_built = sns.lineplot(x='yr_built', y='price_sqm_living', data= df_kc_clean, ci=None, palette=customPalette)\n",
    "price_yr_built.set(xlabel = 'Year of Construction', ylabel = 'Mean of Price/sqm Living Area')\n",
    "price_yr_built.set(ylim= (2000, 4500))\n",
    "\n",
    "# save figure as .jpg to include in presentation\n",
    "timing_plot.savefig(\"figures/build_year.jpg\")\n",
    "# display plot\n",
    "plt.show(timing_plot);"
   ]
  },
  {
   "cell_type": "code",
   "execution_count": null,
   "metadata": {},
   "outputs": [],
   "source": [
    "df_kc_clean.query('yr_built < 1950').describe()"
   ]
  },
  {
   "cell_type": "code",
   "execution_count": null,
   "metadata": {},
   "outputs": [],
   "source": [
    "df_kc_clean.query('yr_built >= 1950').describe()"
   ]
  },
  {
   "attachments": {},
   "cell_type": "markdown",
   "metadata": {},
   "source": [
    "## Which features are correlated with the price?"
   ]
  },
  {
   "cell_type": "code",
   "execution_count": null,
   "metadata": {},
   "outputs": [],
   "source": [
    "#descriptive stats for price per sqm living area:\n",
    "df_kc_clean.price_sqm_living.describe()"
   ]
  },
  {
   "cell_type": "code",
   "execution_count": null,
   "metadata": {},
   "outputs": [],
   "source": [
    "# pearson's correlation heatmap to check for correlated features of price\n",
    "\n",
    "corr = df_kc_clean.corr()\n",
    "corr.style.background_gradient(cmap='coolwarm').set_precision(2)"
   ]
  },
  {
   "cell_type": "code",
   "execution_count": null,
   "metadata": {},
   "outputs": [],
   "source": [
    "# Pearsons R for correlation of continuous variables: price, sqm living:\n",
    "stats.pearsonr(df_kc_clean['price'], df_kc_clean['sqm_living'])"
   ]
  },
  {
   "cell_type": "code",
   "execution_count": null,
   "metadata": {},
   "outputs": [],
   "source": [
    "# Spearman's R for correlation with categorical variable: price and bathrooms:\n",
    "stats.spearmanr(df_kc_clean['price_sqm_living'], df_kc_clean['bathrooms'], axis=0, alternative='two-sided')"
   ]
  },
  {
   "cell_type": "code",
   "execution_count": null,
   "metadata": {},
   "outputs": [],
   "source": [
    "# Spearman's R for correlation with categorical variable: price and construction:\n",
    "stats.spearmanr(df_kc_clean['price_sqm_living'], df_kc_clean['construction'], axis=0, alternative='two-sided')"
   ]
  },
  {
   "cell_type": "code",
   "execution_count": null,
   "metadata": {},
   "outputs": [],
   "source": [
    "# Spearman's R for correlation with categorical variable: price and condition:\n",
    "stats.spearmanr(df_kc_clean['price_sqm_living'], df_kc_clean['condition'], axis=0, alternative='two-sided')"
   ]
  },
  {
   "cell_type": "code",
   "execution_count": null,
   "metadata": {},
   "outputs": [],
   "source": [
    "# Spearman's R for correlation with categorical variable: price and bedrooms:\n",
    "stats.spearmanr(df_kc_clean['price_sqm_living'], df_kc_clean['bedrooms'], axis=0, alternative='two-sided')"
   ]
  },
  {
   "cell_type": "code",
   "execution_count": null,
   "metadata": {},
   "outputs": [],
   "source": [
    "# Spearman's R for correlation with categorical variable: price and selling month:\n",
    "stats.spearmanr(df_kc_clean['price_sqm_living'], df_kc_clean['month_sold'], axis=0, alternative='two-sided')"
   ]
  },
  {
   "attachments": {},
   "cell_type": "markdown",
   "metadata": {},
   "source": [
    "## Subset of affordable housing for stakeholder (lower 15% of price range):"
   ]
  },
  {
   "cell_type": "code",
   "execution_count": null,
   "metadata": {},
   "outputs": [],
   "source": [
    "# my clients budget is limited to property in the lowest 15% of the price range\n",
    "# creating a subset to only hold 'affordable' property:\n",
    "\n",
    "np.percentile(df_kc_clean['price_sqm_living'], 15)"
   ]
  },
  {
   "cell_type": "code",
   "execution_count": null,
   "metadata": {},
   "outputs": [],
   "source": [
    "df_kc_low15 = df_kc_clean.query('price_sqm_living <= 1717')\n",
    "df_kc_low15.describe()"
   ]
  },
  {
   "cell_type": "code",
   "execution_count": null,
   "metadata": {},
   "outputs": [],
   "source": [
    "# save affordable df as .csv\n",
    "\n",
    "df_kc_low15.to_csv('data/king_county_house_affordable_dataset.csv', index=False)"
   ]
  }
 ],
 "metadata": {
  "kernelspec": {
   "display_name": ".venv",
   "language": "python",
   "name": "python3"
  },
  "language_info": {
   "codemirror_mode": {
    "name": "ipython",
    "version": 3
   },
   "file_extension": ".py",
   "mimetype": "text/x-python",
   "name": "python",
   "nbconvert_exporter": "python",
   "pygments_lexer": "ipython3",
   "version": "3.9.8"
  },
  "orig_nbformat": 4
 },
 "nbformat": 4,
 "nbformat_minor": 2
}
