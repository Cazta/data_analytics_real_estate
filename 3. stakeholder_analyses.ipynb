{
 "cells": [
  {
   "attachments": {},
   "cell_type": "markdown",
   "metadata": {},
   "source": [
    "# EDA - Stakeholder Analyses\n"
   ]
  },
  {
   "cell_type": "code",
   "execution_count": null,
   "metadata": {},
   "outputs": [],
   "source": [
    "import warnings\n",
    "\n",
    "warnings.filterwarnings(\"ignore\")\n",
    "\n",
    "import pandas as pd\n",
    "import numpy as np\n",
    "import matplotlib.pyplot as plt\n",
    "import seaborn as sns\n",
    "import missingno as msno\n",
    "from datetime import datetime, date, time, timedelta\n",
    "\n",
    "\n",
    "from matplotlib.ticker import PercentFormatter\n",
    "plt.rcParams.update({ \"figure.figsize\" : (8, 5),\"axes.facecolor\" : \"white\", \"axes.edgecolor\":  \"black\"})\n",
    "plt.rcParams[\"figure.facecolor\"]= \"w\"\n",
    "pd.plotting.register_matplotlib_converters()\n",
    "pd.set_option('display.float_format', lambda x: '%.3f' % x)\n",
    "%matplotlib inline"
   ]
  },
  {
   "cell_type": "code",
   "execution_count": null,
   "metadata": {},
   "outputs": [],
   "source": [
    "# import cleaned data\n",
    "df_kc_clean = pd.read_csv('data/king_county_house_clean_dataset.csv')\n",
    "\n",
    "# disable column truncation\n",
    "pd.set_option('display.max_columns', None) \n",
    "pd.set_option('display.width', None) \n",
    "pd.set_option('display.max_colwidth', -1) "
   ]
  },
  {
   "attachments": {},
   "cell_type": "markdown",
   "metadata": {},
   "source": [
    "## Stakeholder Requirement\n",
    "- budget assumption: lower 15 percent of price/sqm living area\n",
    "- location: social neighborhood, family friendly\n",
    "- five children: 6 bedrooms or >= 4 bedrooms with at least 150 sqm living area \n",
    "- fair condition, >= 3\n",
    "- good construction, >4\n",
    "\n",
    "\n",
    "American Crowding Index: (WHO Housing and health guidelines)\n",
    "\n",
    "Overcrowding occurs if there are more than three people per habitable room (88).\n",
    "American Crowding Index\n",
    "Crowding occurs if there is more than one person per room; severe crowding occurs if there are more than 1.5\n",
    "persons per room (excluding bathrooms, balconies, porches, foyers, hall-ways and half-rooms).\n",
    "\n",
    "Assumption: Requirements can be fulfilled with at least a fair chance if the were at least 100 listing with this criteria in the data set."
   ]
  },
  {
   "cell_type": "code",
   "execution_count": null,
   "metadata": {},
   "outputs": [],
   "source": [
    "#lowest 15% of the price range\n",
    "np.percentile(df_kc_clean['price_sqm_living'], 15)"
   ]
  },
  {
   "cell_type": "code",
   "execution_count": null,
   "metadata": {},
   "outputs": [],
   "source": [
    "df_kc_low15 = df_kc_clean.query('price_sqm_living <= 1717')\n"
   ]
  },
  {
   "cell_type": "code",
   "execution_count": null,
   "metadata": {},
   "outputs": [],
   "source": [
    "# save affordable df as .csv\n",
    "df_kc_low15.to_csv('data/king_county_house_affordable_dataset.csv', index=False)"
   ]
  },
  {
   "cell_type": "code",
   "execution_count": null,
   "metadata": {},
   "outputs": [],
   "source": [
    "df_kc_low15.describe()"
   ]
  },
  {
   "cell_type": "code",
   "execution_count": null,
   "metadata": {},
   "outputs": [],
   "source": [
    "#starting with the perfect houses, there are no results\n",
    "df_kc_low15.query('social_ngh == 1 and bedrooms >= 6 and construction >= 4 and condition >= 4').sort_values('price').shape"
   ]
  },
  {
   "cell_type": "code",
   "execution_count": null,
   "metadata": {},
   "outputs": [],
   "source": [
    "#alternative square meter instead of bedrooms do not improve things much\n",
    "df_kc_low15.query('social_ngh == 1 and sqm_living >= 120 and bedrooms >= 4 and construction >= 4 and condition >= 4').sort_values('price').shape"
   ]
  },
  {
   "attachments": {},
   "cell_type": "markdown",
   "metadata": {},
   "source": [
    "I want to look at the distribution of the criteria variables to see what I need to relax on to get more listings:"
   ]
  },
  {
   "attachments": {},
   "cell_type": "markdown",
   "metadata": {},
   "source": [
    "reducing the bedrooms to at least 3 was a good idea, but not sufficient. Since this is the minimum required bedrooms, we need to look for other factors"
   ]
  },
  {
   "attachments": {},
   "cell_type": "markdown",
   "metadata": {},
   "source": [
    "there are only limited listing with construction rates above 3, so having this criteria reduce the findings a lot. construction should be set to at least fair (>= 3)"
   ]
  },
  {
   "cell_type": "code",
   "execution_count": null,
   "metadata": {},
   "outputs": [],
   "source": [
    "fig, ax = plt.subplots(figsize=(10,5))\n",
    "sns.histplot(ax = ax, data = df_kc_low15, x='bedrooms', edgecolor='#a6dba0', linewidth=2, binwidth=1, color='#7b3294', discrete=True)\n",
    "#df_kc_low15.hist(ax=ax, column='bedrooms', edgecolor='#a6dba0', linewidth=2, color='#7b3294', discrete=True)\n",
    "\n",
    "sns.set_style(\"darkgrid\")\n",
    "sns.despine()\n",
    "\n",
    "ax.set_title('Number of Bedrooms in Listed Housing', color='#7b3294')\n",
    "ax.set_ylabel('')\n",
    "ax.set_xlabel('')\n",
    "plt.xticks([1,2,3,4,5,6,7,8,9])\n",
    "plt.yticks([]);\n",
    "\n",
    "plt.savefig(\"bedrooms_distribution.jpg\")"
   ]
  },
  {
   "cell_type": "code",
   "execution_count": null,
   "metadata": {},
   "outputs": [],
   "source": [
    "fig, ax = plt.subplots(figsize=(10,5))\n",
    "sns.histplot(ax = ax, data = df_kc_low15, x='construction', edgecolor='#a6dba0', linewidth=2, binwidth=1, color='#7b3294', discrete=True)\n",
    "#df_kc_low15.hist(ax=ax, column='bedrooms', edgecolor='#a6dba0', linewidth=2, color='#7b3294', discrete=True)\n",
    "\n",
    "sns.set_style(\"darkgrid\")\n",
    "sns.despine()\n",
    "\n",
    "ax.set_title('Construction Ratings', color='#7b3294')\n",
    "ax.set_ylabel('')\n",
    "ax.set_xlabel('(1) = poor to (5) = very good')\n",
    "plt.xticks([1,2,3,4,5])\n",
    "plt.yticks([]);\n",
    "\n",
    "plt.savefig(\"construction_distribution.jpg\")"
   ]
  },
  {
   "cell_type": "code",
   "execution_count": null,
   "metadata": {},
   "outputs": [],
   "source": [
    "fig, ax = plt.subplots(figsize=(10,5))\n",
    "sns.histplot(ax = ax, data = df_kc_low15, x='condition', edgecolor='#a6dba0', linewidth=2, binwidth=1, color='#7b3294', discrete=True)\n",
    "#df_kc_low15.hist(ax=ax, column='bedrooms', edgecolor='#a6dba0', linewidth=2, color='#7b3294', discrete=True)\n",
    "\n",
    "sns.set_style(\"darkgrid\")\n",
    "sns.despine()\n",
    "\n",
    "ax.set_title('Condition Ratings', color='#7b3294')\n",
    "ax.set_ylabel('')\n",
    "ax.set_xlabel('(1) = poor to (5) = very good')\n",
    "plt.xticks([1,2,3,4,5])\n",
    "plt.yticks([]);\n",
    "\n",
    "plt.savefig(\"condition_distribution.jpg\")"
   ]
  },
  {
   "attachments": {},
   "cell_type": "markdown",
   "metadata": {},
   "source": [
    "most listing are in fair condition, so reducing this criteria makes a lot of sense"
   ]
  },
  {
   "cell_type": "code",
   "execution_count": null,
   "metadata": {},
   "outputs": [],
   "source": [
    "fig, ax = plt.subplots(figsize=(10,5))\n",
    "sns.histplot(ax = ax, data = df_kc_clean, x='social_ngh', color='w', edgecolor='#463f1a', linewidth=2, binwidth=.8, bins=2, discrete=True, stat='probability', alpha=0.2)\n",
    "\n",
    "sns.histplot(ax = ax, data = df_kc_low15, x='social_ngh', color='w', edgecolor='#ffac81', linewidth=2, binwidth=.8, bins=2, discrete=True, stat='probability', alpha=0.2)\n",
    "\n",
    "sns.set_style(\"darkgrid\")\n",
    "sns.despine()\n",
    "\n",
    "ax.set_title('Housing Listings in King County', color='#7b3294')\n",
    "ax.set_ylabel('')\n",
    "ax.set_xlabel('Other Areas                                                      Desired Neighborhoods')\n",
    "plt.xticks([])\n",
    "\n",
    "ax.legend(['Total Price Range', 'Lower 15%'])\n",
    "\n",
    "plt.savefig(\"social_ngh_distribution over sample.jpg\");"
   ]
  },
  {
   "attachments": {},
   "cell_type": "markdown",
   "metadata": {},
   "source": [
    "location, location location: as expected, the good neighborhood limits the chances greatly, a last resort would be to move to a less desired neighborhood "
   ]
  },
  {
   "cell_type": "code",
   "execution_count": null,
   "metadata": {},
   "outputs": [],
   "source": [
    "#starting with the perfect houses, there are no results\n",
    "df_kc_low15.query('social_ngh == 1 and bedrooms >= 6 and construction >= 4 and condition >= 3').sort_values('price').shape"
   ]
  },
  {
   "cell_type": "code",
   "execution_count": null,
   "metadata": {},
   "outputs": [],
   "source": [
    "#alternative square meter instead of bedrooms do not improve things much\n",
    "df_kc_low15.query('social_ngh == 1 and sqm_living >= 120 and bedrooms >= 4 and construction >= 4 and condition >= 4').sort_values('price').shape"
   ]
  },
  {
   "attachments": {},
   "cell_type": "markdown",
   "metadata": {},
   "source": [
    "## Reducing Stakeholder Requirements\n",
    "- as seen in the distributions, reducing to 4 bedrooms is a good idea, but was no enough to yield at least a sufficient amount of available housing"
   ]
  },
  {
   "cell_type": "code",
   "execution_count": null,
   "metadata": {},
   "outputs": [],
   "source": [
    "df_kc_low15.query('social_ngh == 1 and sqm_living >= 120 and bedrooms >= 4 and construction >= 4 and condition >= 3').sort_values('price').shape"
   ]
  },
  {
   "cell_type": "code",
   "execution_count": null,
   "metadata": {},
   "outputs": [],
   "source": [
    "df_kc_low15.query('social_ngh == 1 and bedrooms >= 6 and construction >= 3 and condition >= 3').sort_values('price').shape"
   ]
  },
  {
   "cell_type": "code",
   "execution_count": null,
   "metadata": {},
   "outputs": [],
   "source": [
    "# the only way to achieve a sufficient amount of listing in the past:\n",
    "df_kc_low15.query('social_ngh == 1 and sqm_living >= 120 and bedrooms >= 4 and construction >= 3 and condition >= 3').sort_values('price').shape"
   ]
  },
  {
   "cell_type": "code",
   "execution_count": null,
   "metadata": {},
   "outputs": [],
   "source": [
    "df_kc_low15.query('social_ngh == 1 and sqm_living >= 120 and bedrooms >= 3 and construction >= 3 and condition >= 3').sort_values('price').shape"
   ]
  },
  {
   "attachments": {},
   "cell_type": "markdown",
   "metadata": {},
   "source": [
    "## Feasible Requirements\n",
    "- social neighborhood\n",
    "- 120 square meter living and at least four bedrooms\n",
    "- fair condition\n",
    "- fair construction\n",
    "\n",
    "- searching outside of desired neighborhood would increase the changes significantly:\n"
   ]
  },
  {
   "cell_type": "code",
   "execution_count": null,
   "metadata": {},
   "outputs": [],
   "source": [
    "df_kc_low15.query('social_ngh == 0 and sqm_living >= 120 and bedrooms >= 3 and construction >= 3 and condition >= 3').sort_values('price').shape"
   ]
  }
 ],
 "metadata": {
  "kernelspec": {
   "display_name": ".venv",
   "language": "python",
   "name": "python3"
  },
  "language_info": {
   "codemirror_mode": {
    "name": "ipython",
    "version": 3
   },
   "file_extension": ".py",
   "mimetype": "text/x-python",
   "name": "python",
   "nbconvert_exporter": "python",
   "pygments_lexer": "ipython3",
   "version": "3.9.8"
  },
  "orig_nbformat": 4
 },
 "nbformat": 4,
 "nbformat_minor": 2
}
