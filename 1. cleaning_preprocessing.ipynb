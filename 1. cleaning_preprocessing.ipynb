{
 "cells": [
  {
   "attachments": {},
   "cell_type": "markdown",
   "metadata": {},
   "source": [
    "# Data Cleaning, Feature Engineering\n"
   ]
  },
  {
   "cell_type": "code",
   "execution_count": null,
   "metadata": {},
   "outputs": [],
   "source": [
    "import warnings\n",
    "\n",
    "warnings.filterwarnings(\"ignore\")\n",
    "\n",
    "import pandas as pd\n",
    "import numpy as np\n",
    "import matplotlib.pyplot as plt\n",
    "import seaborn as sns\n",
    "import missingno as msno\n",
    "from datetime import datetime, date, time, timedelta\n",
    "\n",
    "\n",
    "from matplotlib.ticker import PercentFormatter\n",
    "plt.rcParams.update({ \"figure.figsize\" : (8, 5),\"axes.facecolor\" : \"white\", \"axes.edgecolor\":  \"black\"})\n",
    "plt.rcParams[\"figure.facecolor\"]= \"w\"\n",
    "pd.plotting.register_matplotlib_converters()\n",
    "pd.set_option('display.float_format', lambda x: '%.3f' % x)\n"
   ]
  },
  {
   "cell_type": "code",
   "execution_count": null,
   "metadata": {},
   "outputs": [],
   "source": [
    "# import raw data\n",
    "df_kc_housing_raw = pd.read_csv('data/King_County_House_prices_dataset.csv')\n",
    "\n",
    "# as column 'condition' is truncated in the display, disable column truncation\n",
    "pd.set_option('display.max_columns', None) \n",
    "pd.set_option('display.width', None) \n",
    "pd.set_option('display.max_colwidth', -1) "
   ]
  },
  {
   "attachments": {},
   "cell_type": "markdown",
   "metadata": {},
   "source": [
    "## Data Overview"
   ]
  },
  {
   "cell_type": "code",
   "execution_count": null,
   "metadata": {},
   "outputs": [],
   "source": [
    "# first overview of data\n",
    "df_kc_housing_raw.shape\n"
   ]
  },
  {
   "cell_type": "code",
   "execution_count": null,
   "metadata": {},
   "outputs": [],
   "source": [
    "df_kc_housing_raw.columns"
   ]
  },
  {
   "cell_type": "code",
   "execution_count": null,
   "metadata": {},
   "outputs": [],
   "source": [
    "df_kc_housing_raw.head()"
   ]
  },
  {
   "cell_type": "code",
   "execution_count": null,
   "metadata": {},
   "outputs": [],
   "source": [
    "df_kc_housing_raw.tail()"
   ]
  },
  {
   "cell_type": "code",
   "execution_count": null,
   "metadata": {},
   "outputs": [],
   "source": [
    "df_kc_housing_raw.info()"
   ]
  },
  {
   "cell_type": "code",
   "execution_count": null,
   "metadata": {},
   "outputs": [],
   "source": [
    "df_kc_housing_raw.describe(include='all')"
   ]
  },
  {
   "attachments": {},
   "cell_type": "markdown",
   "metadata": {},
   "source": [
    "## Stakeholder and Task Description\n",
    "\n",
    "- Stakeholder wants to buy real estate for his family\n",
    "- He has five children and very limited budget\n",
    "- Looking to buy in a nice, social neighborhood\n",
    "- Needs suggestions on timing (season, month) an location"
   ]
  },
  {
   "attachments": {},
   "cell_type": "markdown",
   "metadata": {},
   "source": [
    "## Cleaning and additional features\n",
    "\n",
    "- check duplicates\n",
    "- check and convert data formats in columns\n",
    "- engineer new features where necessary\n",
    "- check for missing values\n",
    "- drop columns not used in further analyses\n",
    "- save clean data set"
   ]
  },
  {
   "cell_type": "code",
   "execution_count": null,
   "metadata": {},
   "outputs": [],
   "source": [
    "# deep copy of the df to be cleaned and processed df:\n",
    "df_kc_housing = df_kc_housing_raw.copy(deep=True)"
   ]
  },
  {
   "attachments": {},
   "cell_type": "markdown",
   "metadata": {},
   "source": [
    "#### Duplicates"
   ]
  },
  {
   "cell_type": "code",
   "execution_count": null,
   "metadata": {},
   "outputs": [],
   "source": [
    "# check for duplicates\n",
    "\n",
    "df_kc_housing.duplicated().value_counts()\n",
    "\n",
    "# the data set holds no duplicates"
   ]
  },
  {
   "attachments": {},
   "cell_type": "markdown",
   "metadata": {},
   "source": [
    "### Data Types"
   ]
  },
  {
   "cell_type": "code",
   "execution_count": null,
   "metadata": {},
   "outputs": [],
   "source": [
    "# check data types for entries to clean numeric data in columns\n",
    "df_kc_housing.dtypes\n",
    "\n",
    "# date and sqft_basement need to be converted to numeric data types"
   ]
  },
  {
   "cell_type": "code",
   "execution_count": null,
   "metadata": {},
   "outputs": [],
   "source": [
    "# check date type for first entry in column 'date' \n",
    "type(df_kc_housing['date'][0])\n",
    "\n",
    "# convert string to timestamp format\n",
    "df_kc_housing['date'] = pd.to_datetime(df_kc_housing['date'], format='%m/%d/%Y')\n",
    "\n",
    "# check data type to control\n",
    "type(df_kc_housing['date'][0])"
   ]
  },
  {
   "cell_type": "code",
   "execution_count": null,
   "metadata": {},
   "outputs": [],
   "source": [
    "df_kc_housing.date.min()"
   ]
  },
  {
   "cell_type": "code",
   "execution_count": null,
   "metadata": {},
   "outputs": [],
   "source": [
    "df_kc_housing.date.max()"
   ]
  },
  {
   "cell_type": "code",
   "execution_count": null,
   "metadata": {},
   "outputs": [],
   "source": [
    "# cleaning column sqft_basement \n",
    "\n",
    "# first attempt to convert column entries to float\n",
    "df_kc_housing = df_kc_housing.astype({'sqft_basement': float})"
   ]
  },
  {
   "cell_type": "code",
   "execution_count": null,
   "metadata": {},
   "outputs": [],
   "source": [
    "# find '?'-character in sqft_basement column\n",
    "df_kc_housing.query('sqft_basement == \"?\"')\n",
    "\n",
    "#replace the `?`-character with a numpy NaN value\n",
    "df_kc_housing['sqft_basement'] = df_kc_housing.sqft_basement.replace('?',np.NaN)\n",
    "# change data type to float\n",
    "\n",
    "df_kc_housing = df_kc_housing.astype({'sqft_basement': float})\n",
    "\n",
    "df_kc_housing.sqft_basement.dtypes"
   ]
  },
  {
   "attachments": {},
   "cell_type": "markdown",
   "metadata": {},
   "source": [
    "### Feature Engineering "
   ]
  },
  {
   "attachments": {},
   "cell_type": "markdown",
   "metadata": {},
   "source": [
    "#### Month sold"
   ]
  },
  {
   "cell_type": "code",
   "execution_count": null,
   "metadata": {},
   "outputs": [],
   "source": [
    "# create a column with month of property selling\n",
    "df_kc_housing['month_sold'] = pd.to_datetime(df_kc_housing['date']).dt.month"
   ]
  },
  {
   "cell_type": "code",
   "execution_count": null,
   "metadata": {},
   "outputs": [],
   "source": [
    "df_kc_housing.info()"
   ]
  },
  {
   "attachments": {},
   "cell_type": "markdown",
   "metadata": {},
   "source": [
    "#### Square feet to square meter"
   ]
  },
  {
   "cell_type": "code",
   "execution_count": null,
   "metadata": {},
   "outputs": [],
   "source": [
    "# convert square feet to square meter in column square feet living:\n",
    "df_kc_housing['sqft_living'] = df_kc_housing.sqft_living.apply(lambda x: x/10.764)\n",
    "\n",
    "df_kc_housing = df_kc_housing.astype({'sqft_living': int})\n",
    "\n",
    "df_kc_housing = df_kc_housing.rename({'sqft_living':'sqm_living'},axis=1)\n"
   ]
  },
  {
   "cell_type": "code",
   "execution_count": null,
   "metadata": {},
   "outputs": [],
   "source": [
    "# convert square feet to square meter in column square feet lot:\n",
    "\n",
    "df_kc_housing['sqft_lot'] = df_kc_housing.sqft_lot.apply(lambda x: x/10.764)\n",
    "\n",
    "df_kc_housing = df_kc_housing.astype({'sqft_lot': int})\n",
    "\n",
    "df_kc_housing = df_kc_housing.rename({'sqft_lot':'sqm_lot'},axis=1)"
   ]
  },
  {
   "cell_type": "code",
   "execution_count": null,
   "metadata": {},
   "outputs": [],
   "source": [
    "df_kc_housing.head()"
   ]
  },
  {
   "attachments": {},
   "cell_type": "markdown",
   "metadata": {},
   "source": [
    "#### Likert-Scale building condition"
   ]
  },
  {
   "cell_type": "code",
   "execution_count": null,
   "metadata": {},
   "outputs": [],
   "source": [
    "# creating a 5-point-likert-scale of 'grade' to match the scale of 'condition' \n",
    "df_kc_housing['grade'] = df_kc_housing['grade'].map({\n",
    "    3:1,\n",
    "    4:1, \n",
    "    5:2,\n",
    "    6:2,\n",
    "    7:3,\n",
    "    8:3,  \n",
    "    9:3,\n",
    "    10:4,\n",
    "    11:4,\n",
    "    12:5, \n",
    "    13:5\n",
    "    })\n",
    "\n",
    "# rename column 'grade' to 'construction'\n",
    "df_kc_housing = df_kc_housing.rename({'grade':'construction'},axis=1)\n",
    "# check results\n",
    "df_kc_housing.construction.unique()"
   ]
  },
  {
   "attachments": {},
   "cell_type": "markdown",
   "metadata": {},
   "source": [
    "#### Dummy 'social neighborhood'\n",
    "\n",
    "My stakeholder has five kids and is looking to buy in a nice, social neighborhood. \n",
    "\n",
    "To assess this criteria I am creating a dummy variable 'social_ngh' that holds the most family friendly districts (A-rating) in the central area of King County (Seattle and suburb Bellevue). \n",
    "\n",
    "Information on the most family friendly neighborhood was taken from \n",
    "https://www.niche.com/about/methodology/best-places-for-families/\n",
    "\n",
    "The score includes public schools, rate of higher education in the population, cost of living, crime rates, family amenities, diversity, percent of household with children, percent of children below poverty, residents 17 years old an under - based on the US Census."
   ]
  },
  {
   "cell_type": "code",
   "execution_count": null,
   "metadata": {},
   "outputs": [],
   "source": [
    "df_kc_housing.zipcode.nunique()"
   ]
  },
  {
   "cell_type": "code",
   "execution_count": null,
   "metadata": {},
   "outputs": [],
   "source": [
    "# bins (zip-code ranges), family friendly zip codes = 1\n",
    "bins = [98001, 98003, 98010, 98013, 98015, 98106, 98112, 98116, 98125, 98141, 98144, 98194, 98195, 98198, 98199]\n",
    "# dummy-labeling\n",
    "labels = [0, 1, 0, 1, 0, 1, 0, 1, 0, 1, 0, 1, 0, 1]\n",
    "\n",
    "df_kc_housing['social_ngh'] = pd.cut(\n",
    "    df_kc_housing.zipcode,\n",
    "    bins = bins,\n",
    "    labels=labels,\n",
    "    ordered=False,\n",
    "    include_lowest=True\n",
    ")"
   ]
  },
  {
   "attachments": {},
   "cell_type": "markdown",
   "metadata": {},
   "source": [
    "### Missing Values"
   ]
  },
  {
   "cell_type": "code",
   "execution_count": null,
   "metadata": {},
   "outputs": [],
   "source": [
    "# missing values\n",
    "# display number of missing values per column\n",
    "df_kc_housing.isna().sum()\n",
    "\n",
    "msno.bar(df_kc_housing)\n",
    "# the column 'waterfront' has approx. 10 percent of missing values, the column 'yr_renovated' approx. 20 percent. \n",
    "\n"
   ]
  },
  {
   "cell_type": "code",
   "execution_count": null,
   "metadata": {},
   "outputs": [],
   "source": [
    "# my stakeholder has very limited budget and it not interested in a property near the waterfront. In my case, it is best to drop the waterfront-column\n",
    "# rather then to drop row-wise, as I might loose valuable information:\n",
    "\n",
    "df_kc_housing = df_kc_housing.drop('waterfront', axis=1)"
   ]
  },
  {
   "cell_type": "code",
   "execution_count": null,
   "metadata": {},
   "outputs": [],
   "source": [
    "# yr_renovated column hold approx. 20% of missing values, so again I would lose a lot of information if I dropped row wise. \n",
    "# My stakeholder is not explicitly interested in the year of renovation, but rather in the overall condition of the property. \n",
    "# Instead of using yr_renovated, I will use the 'condition'-scale to assess the condition of the property, \n",
    "# and am therefore dropping yr_renovated as well:\n",
    "\n",
    "df_kc_housing = df_kc_housing.drop('yr_renovated', axis=1)\n"
   ]
  },
  {
   "cell_type": "code",
   "execution_count": null,
   "metadata": {},
   "outputs": [],
   "source": [
    "# the data set does not contain missing values\n",
    "df_kc_housing.isna().sum()\n",
    "\n"
   ]
  },
  {
   "cell_type": "code",
   "execution_count": null,
   "metadata": {},
   "outputs": [],
   "source": [
    "# my client has a large family and very limited budget, he is interested in enough living space before the lot. \n",
    "# create price per square meter of living area\n",
    "\n",
    "df_kc_housing['price_sqm_living'] = round(df_kc_housing.price/df_kc_housing.sqm_living, 0)"
   ]
  },
  {
   "cell_type": "code",
   "execution_count": null,
   "metadata": {},
   "outputs": [],
   "source": [
    "# and create another column with price per sqm including 25% of the lot as total living area:\n",
    "\n",
    "df_kc_housing['sqm_total'] = round(df_kc_housing.sqm_living + (df_kc_housing.sqm_lot*0.25), 0)\n",
    "\n",
    "df_kc_housing['price_sqm_total'] = round(df_kc_housing.price/df_kc_housing.sqm_total, 0)"
   ]
  },
  {
   "attachments": {},
   "cell_type": "markdown",
   "metadata": {},
   "source": [
    "### Outliers"
   ]
  },
  {
   "cell_type": "code",
   "execution_count": null,
   "metadata": {},
   "outputs": [],
   "source": [
    "# outliers\n",
    "df_kc_housing.describe(include='all')\n",
    "# possible outliers may be in the columns: bedrooms, bathrooms, sqm_lot"
   ]
  },
  {
   "cell_type": "code",
   "execution_count": null,
   "metadata": {},
   "outputs": [],
   "source": [
    "# bedrooms:\n",
    "df_kc_housing.bedrooms.sort_values().tail(30)"
   ]
  },
  {
   "cell_type": "code",
   "execution_count": null,
   "metadata": {},
   "outputs": [],
   "source": [
    "df_kc_housing.iloc[15856]"
   ]
  },
  {
   "cell_type": "code",
   "execution_count": null,
   "metadata": {},
   "outputs": [],
   "source": [
    "# 33 bedrooms with only 150 sqm of living are and 1.75 bathrooms seems implausible, likely an outlier\n",
    "# delete the row\n",
    "df_kc_housing.drop([15856], inplace=True)\n",
    "\n",
    "# reset index\n",
    "df_kc_housing.reset_index(inplace=True, drop=True)"
   ]
  },
  {
   "cell_type": "code",
   "execution_count": null,
   "metadata": {},
   "outputs": [],
   "source": [
    "# check column bathrooms for outliers:\n",
    "df_kc_housing.bathrooms.sort_values().tail(30)\n",
    "\n",
    "# eight bathrooms seems plausible and do not need to ne considered outliers"
   ]
  },
  {
   "cell_type": "code",
   "execution_count": null,
   "metadata": {},
   "outputs": [],
   "source": [
    "# check sqm_lot for outliers:\n",
    "df_kc_housing.sqm_lot.sort_values().tail(30)\n",
    "\n",
    "# such large lots are rare in the data set, but not unrealistic and do not need to be removed"
   ]
  },
  {
   "attachments": {},
   "cell_type": "markdown",
   "metadata": {},
   "source": [
    "### Drop not used columns"
   ]
  },
  {
   "cell_type": "code",
   "execution_count": null,
   "metadata": {},
   "outputs": [],
   "source": [
    "#drop columns not used in further analyses, according to needs od stakeholder and analysis strategy\n",
    "\n",
    "df_kc_housing = df_kc_housing.drop(['sqft_above','sqft_basement', 'lat', 'long', 'view', 'sqft_living15', 'sqft_lot15'], axis = 1)\n"
   ]
  },
  {
   "cell_type": "code",
   "execution_count": null,
   "metadata": {},
   "outputs": [],
   "source": [
    "df_kc_housing.describe()"
   ]
  },
  {
   "attachments": {},
   "cell_type": "markdown",
   "metadata": {},
   "source": [
    "### Save clean data set"
   ]
  },
  {
   "cell_type": "code",
   "execution_count": null,
   "metadata": {},
   "outputs": [],
   "source": [
    "# save clean df as .csv\n",
    "\n",
    "df_kc_housing.to_csv('data/king_county_house_clean_dataset.csv', index=False)"
   ]
  }
 ],
 "metadata": {
  "kernelspec": {
   "display_name": ".venv",
   "language": "python",
   "name": "python3"
  },
  "language_info": {
   "codemirror_mode": {
    "name": "ipython",
    "version": 3
   },
   "file_extension": ".py",
   "mimetype": "text/x-python",
   "name": "python",
   "nbconvert_exporter": "python",
   "pygments_lexer": "ipython3",
   "version": "3.9.8"
  },
  "orig_nbformat": 4
 },
 "nbformat": 4,
 "nbformat_minor": 2
}
